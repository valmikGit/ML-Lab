{
 "cells": [
  {
   "cell_type": "code",
   "execution_count": 30,
   "metadata": {},
   "outputs": [],
   "source": [
    "import numpy as np\n",
    "import pandas as pd\n",
    "import matplotlib.pyplot as plt\n",
    "import seaborn as sns"
   ]
  },
  {
   "cell_type": "markdown",
   "metadata": {},
   "source": [
    "Reading of the CSV file into a dataframe."
   ]
  },
  {
   "cell_type": "code",
   "execution_count": 31,
   "metadata": {},
   "outputs": [
    {
     "data": {
      "text/html": [
       "<div>\n",
       "<style scoped>\n",
       "    .dataframe tbody tr th:only-of-type {\n",
       "        vertical-align: middle;\n",
       "    }\n",
       "\n",
       "    .dataframe tbody tr th {\n",
       "        vertical-align: top;\n",
       "    }\n",
       "\n",
       "    .dataframe thead th {\n",
       "        text-align: right;\n",
       "    }\n",
       "</style>\n",
       "<table border=\"1\" class=\"dataframe\">\n",
       "  <thead>\n",
       "    <tr style=\"text-align: right;\">\n",
       "      <th></th>\n",
       "      <th>Feature1</th>\n",
       "      <th>Feature2</th>\n",
       "      <th>Feature3</th>\n",
       "      <th>Feature4</th>\n",
       "      <th>Label</th>\n",
       "    </tr>\n",
       "  </thead>\n",
       "  <tbody>\n",
       "    <tr>\n",
       "      <th>0</th>\n",
       "      <td>26.303954</td>\n",
       "      <td>True</td>\n",
       "      <td>59.919036</td>\n",
       "      <td>126.853479</td>\n",
       "      <td>170.361411</td>\n",
       "    </tr>\n",
       "    <tr>\n",
       "      <th>1</th>\n",
       "      <td>19.646076</td>\n",
       "      <td>False</td>\n",
       "      <td>34.504636</td>\n",
       "      <td>108.363933</td>\n",
       "      <td>29.897337</td>\n",
       "    </tr>\n",
       "    <tr>\n",
       "      <th>2</th>\n",
       "      <td>36.983463</td>\n",
       "      <td>False</td>\n",
       "      <td>98.503396</td>\n",
       "      <td>5.085491</td>\n",
       "      <td>373.460027</td>\n",
       "    </tr>\n",
       "    <tr>\n",
       "      <th>3</th>\n",
       "      <td>36.516512</td>\n",
       "      <td>False</td>\n",
       "      <td>38.418101</td>\n",
       "      <td>1.173449</td>\n",
       "      <td>26.696336</td>\n",
       "    </tr>\n",
       "    <tr>\n",
       "      <th>4</th>\n",
       "      <td>28.734387</td>\n",
       "      <td>False</td>\n",
       "      <td>99.286184</td>\n",
       "      <td>29.123061</td>\n",
       "      <td>332.682539</td>\n",
       "    </tr>\n",
       "    <tr>\n",
       "      <th>...</th>\n",
       "      <td>...</td>\n",
       "      <td>...</td>\n",
       "      <td>...</td>\n",
       "      <td>...</td>\n",
       "      <td>...</td>\n",
       "    </tr>\n",
       "    <tr>\n",
       "      <th>235</th>\n",
       "      <td>31.769066</td>\n",
       "      <td>False</td>\n",
       "      <td>189.379552</td>\n",
       "      <td>0.002523</td>\n",
       "      <td>1277.121058</td>\n",
       "    </tr>\n",
       "    <tr>\n",
       "      <th>236</th>\n",
       "      <td>28.015702</td>\n",
       "      <td>True</td>\n",
       "      <td>85.468516</td>\n",
       "      <td>61.646937</td>\n",
       "      <td>304.899057</td>\n",
       "    </tr>\n",
       "    <tr>\n",
       "      <th>237</th>\n",
       "      <td>31.477720</td>\n",
       "      <td>False</td>\n",
       "      <td>0.360471</td>\n",
       "      <td>19.738584</td>\n",
       "      <td>26.351808</td>\n",
       "    </tr>\n",
       "    <tr>\n",
       "      <th>238</th>\n",
       "      <td>27.198042</td>\n",
       "      <td>False</td>\n",
       "      <td>48.290593</td>\n",
       "      <td>18.924597</td>\n",
       "      <td>102.047530</td>\n",
       "    </tr>\n",
       "    <tr>\n",
       "      <th>239</th>\n",
       "      <td>25.648317</td>\n",
       "      <td>False</td>\n",
       "      <td>14.710356</td>\n",
       "      <td>9.092079</td>\n",
       "      <td>24.894291</td>\n",
       "    </tr>\n",
       "  </tbody>\n",
       "</table>\n",
       "<p>240 rows × 5 columns</p>\n",
       "</div>"
      ],
      "text/plain": [
       "      Feature1  Feature2    Feature3    Feature4        Label\n",
       "0    26.303954      True   59.919036  126.853479   170.361411\n",
       "1    19.646076     False   34.504636  108.363933    29.897337\n",
       "2    36.983463     False   98.503396    5.085491   373.460027\n",
       "3    36.516512     False   38.418101    1.173449    26.696336\n",
       "4    28.734387     False   99.286184   29.123061   332.682539\n",
       "..         ...       ...         ...         ...          ...\n",
       "235  31.769066     False  189.379552    0.002523  1277.121058\n",
       "236  28.015702      True   85.468516   61.646937   304.899057\n",
       "237  31.477720     False    0.360471   19.738584    26.351808\n",
       "238  27.198042     False   48.290593   18.924597   102.047530\n",
       "239  25.648317     False   14.710356    9.092079    24.894291\n",
       "\n",
       "[240 rows x 5 columns]"
      ]
     },
     "execution_count": 31,
     "metadata": {},
     "output_type": "execute_result"
    }
   ],
   "source": [
    "train_csv = pd.read_csv('train.csv')\n",
    "train_csv"
   ]
  },
  {
   "cell_type": "markdown",
   "metadata": {},
   "source": [
    "PREPROCESSING:\n",
    "1) Removing duplicate rows.\n",
    "2) The columns where the null value percentage is less than 5% we should remove the rows where these null values are present.\n",
    "3) The columns where the null value percentage is more than equal to 5% and less than 30%, we should use imputation techniques to remove null values.\n",
    "4) The columns where the null value percentage is more than equal to 30%, we should drop the entire columns because a large amount of the columns are null values."
   ]
  },
  {
   "cell_type": "code",
   "execution_count": 32,
   "metadata": {},
   "outputs": [],
   "source": [
    "train_csv.drop_duplicates(inplace=True)"
   ]
  },
  {
   "cell_type": "code",
   "execution_count": 33,
   "metadata": {},
   "outputs": [
    {
     "data": {
      "text/html": [
       "<div>\n",
       "<style scoped>\n",
       "    .dataframe tbody tr th:only-of-type {\n",
       "        vertical-align: middle;\n",
       "    }\n",
       "\n",
       "    .dataframe tbody tr th {\n",
       "        vertical-align: top;\n",
       "    }\n",
       "\n",
       "    .dataframe thead th {\n",
       "        text-align: right;\n",
       "    }\n",
       "</style>\n",
       "<table border=\"1\" class=\"dataframe\">\n",
       "  <thead>\n",
       "    <tr style=\"text-align: right;\">\n",
       "      <th></th>\n",
       "      <th>Feature1</th>\n",
       "      <th>Feature2</th>\n",
       "      <th>Feature3</th>\n",
       "      <th>Feature4</th>\n",
       "      <th>Label</th>\n",
       "    </tr>\n",
       "  </thead>\n",
       "  <tbody>\n",
       "    <tr>\n",
       "      <th>0</th>\n",
       "      <td>26.303954</td>\n",
       "      <td>True</td>\n",
       "      <td>59.919036</td>\n",
       "      <td>126.853479</td>\n",
       "      <td>170.361411</td>\n",
       "    </tr>\n",
       "    <tr>\n",
       "      <th>1</th>\n",
       "      <td>19.646076</td>\n",
       "      <td>False</td>\n",
       "      <td>34.504636</td>\n",
       "      <td>108.363933</td>\n",
       "      <td>29.897337</td>\n",
       "    </tr>\n",
       "    <tr>\n",
       "      <th>2</th>\n",
       "      <td>36.983463</td>\n",
       "      <td>False</td>\n",
       "      <td>98.503396</td>\n",
       "      <td>5.085491</td>\n",
       "      <td>373.460027</td>\n",
       "    </tr>\n",
       "    <tr>\n",
       "      <th>3</th>\n",
       "      <td>36.516512</td>\n",
       "      <td>False</td>\n",
       "      <td>38.418101</td>\n",
       "      <td>1.173449</td>\n",
       "      <td>26.696336</td>\n",
       "    </tr>\n",
       "    <tr>\n",
       "      <th>4</th>\n",
       "      <td>28.734387</td>\n",
       "      <td>False</td>\n",
       "      <td>99.286184</td>\n",
       "      <td>29.123061</td>\n",
       "      <td>332.682539</td>\n",
       "    </tr>\n",
       "    <tr>\n",
       "      <th>...</th>\n",
       "      <td>...</td>\n",
       "      <td>...</td>\n",
       "      <td>...</td>\n",
       "      <td>...</td>\n",
       "      <td>...</td>\n",
       "    </tr>\n",
       "    <tr>\n",
       "      <th>235</th>\n",
       "      <td>31.769066</td>\n",
       "      <td>False</td>\n",
       "      <td>189.379552</td>\n",
       "      <td>0.002523</td>\n",
       "      <td>1277.121058</td>\n",
       "    </tr>\n",
       "    <tr>\n",
       "      <th>236</th>\n",
       "      <td>28.015702</td>\n",
       "      <td>True</td>\n",
       "      <td>85.468516</td>\n",
       "      <td>61.646937</td>\n",
       "      <td>304.899057</td>\n",
       "    </tr>\n",
       "    <tr>\n",
       "      <th>237</th>\n",
       "      <td>31.477720</td>\n",
       "      <td>False</td>\n",
       "      <td>0.360471</td>\n",
       "      <td>19.738584</td>\n",
       "      <td>26.351808</td>\n",
       "    </tr>\n",
       "    <tr>\n",
       "      <th>238</th>\n",
       "      <td>27.198042</td>\n",
       "      <td>False</td>\n",
       "      <td>48.290593</td>\n",
       "      <td>18.924597</td>\n",
       "      <td>102.047530</td>\n",
       "    </tr>\n",
       "    <tr>\n",
       "      <th>239</th>\n",
       "      <td>25.648317</td>\n",
       "      <td>False</td>\n",
       "      <td>14.710356</td>\n",
       "      <td>9.092079</td>\n",
       "      <td>24.894291</td>\n",
       "    </tr>\n",
       "  </tbody>\n",
       "</table>\n",
       "<p>240 rows × 5 columns</p>\n",
       "</div>"
      ],
      "text/plain": [
       "      Feature1  Feature2    Feature3    Feature4        Label\n",
       "0    26.303954      True   59.919036  126.853479   170.361411\n",
       "1    19.646076     False   34.504636  108.363933    29.897337\n",
       "2    36.983463     False   98.503396    5.085491   373.460027\n",
       "3    36.516512     False   38.418101    1.173449    26.696336\n",
       "4    28.734387     False   99.286184   29.123061   332.682539\n",
       "..         ...       ...         ...         ...          ...\n",
       "235  31.769066     False  189.379552    0.002523  1277.121058\n",
       "236  28.015702      True   85.468516   61.646937   304.899057\n",
       "237  31.477720     False    0.360471   19.738584    26.351808\n",
       "238  27.198042     False   48.290593   18.924597   102.047530\n",
       "239  25.648317     False   14.710356    9.092079    24.894291\n",
       "\n",
       "[240 rows x 5 columns]"
      ]
     },
     "execution_count": 33,
     "metadata": {},
     "output_type": "execute_result"
    }
   ],
   "source": [
    "train_csv"
   ]
  },
  {
   "cell_type": "code",
   "execution_count": 34,
   "metadata": {},
   "outputs": [
    {
     "data": {
      "text/plain": [
       "Feature1     9\n",
       "Feature2     0\n",
       "Feature3     0\n",
       "Feature4    13\n",
       "Label        0\n",
       "dtype: int64"
      ]
     },
     "execution_count": 34,
     "metadata": {},
     "output_type": "execute_result"
    }
   ],
   "source": [
    "train_csv.isna().sum()"
   ]
  },
  {
   "cell_type": "code",
   "execution_count": 35,
   "metadata": {},
   "outputs": [
    {
     "data": {
      "text/plain": [
       "Feature1    3.750000\n",
       "Feature2    0.000000\n",
       "Feature3    0.000000\n",
       "Feature4    5.416667\n",
       "Label       0.000000\n",
       "dtype: float64"
      ]
     },
     "execution_count": 35,
     "metadata": {},
     "output_type": "execute_result"
    }
   ],
   "source": [
    "null_value_percentages=(train_csv.isna().sum()/train_csv.shape[0])*100\n",
    "null_value_percentages"
   ]
  },
  {
   "cell_type": "code",
   "execution_count": 36,
   "metadata": {},
   "outputs": [
    {
     "data": {
      "text/plain": [
       "Feature1    3.75\n",
       "Feature2    0.00\n",
       "Feature3    0.00\n",
       "Label       0.00\n",
       "dtype: float64"
      ]
     },
     "execution_count": 36,
     "metadata": {},
     "output_type": "execute_result"
    }
   ],
   "source": [
    "rows_to_drop=null_value_percentages[null_value_percentages<5].sort_values(ascending=False)\n",
    "rows_to_drop"
   ]
  },
  {
   "cell_type": "code",
   "execution_count": 37,
   "metadata": {},
   "outputs": [
    {
     "data": {
      "text/plain": [
       "Index(['Feature1', 'Feature2', 'Feature3', 'Label'], dtype='object')"
      ]
     },
     "execution_count": 37,
     "metadata": {},
     "output_type": "execute_result"
    }
   ],
   "source": [
    "rows_to_drop = rows_to_drop.keys()\n",
    "rows_to_drop"
   ]
  },
  {
   "cell_type": "code",
   "execution_count": 38,
   "metadata": {},
   "outputs": [
    {
     "data": {
      "text/html": [
       "<div>\n",
       "<style scoped>\n",
       "    .dataframe tbody tr th:only-of-type {\n",
       "        vertical-align: middle;\n",
       "    }\n",
       "\n",
       "    .dataframe tbody tr th {\n",
       "        vertical-align: top;\n",
       "    }\n",
       "\n",
       "    .dataframe thead th {\n",
       "        text-align: right;\n",
       "    }\n",
       "</style>\n",
       "<table border=\"1\" class=\"dataframe\">\n",
       "  <thead>\n",
       "    <tr style=\"text-align: right;\">\n",
       "      <th></th>\n",
       "      <th>Feature1</th>\n",
       "      <th>Feature2</th>\n",
       "      <th>Feature3</th>\n",
       "      <th>Feature4</th>\n",
       "      <th>Label</th>\n",
       "    </tr>\n",
       "  </thead>\n",
       "  <tbody>\n",
       "    <tr>\n",
       "      <th>0</th>\n",
       "      <td>26.303954</td>\n",
       "      <td>True</td>\n",
       "      <td>59.919036</td>\n",
       "      <td>126.853479</td>\n",
       "      <td>170.361411</td>\n",
       "    </tr>\n",
       "    <tr>\n",
       "      <th>1</th>\n",
       "      <td>19.646076</td>\n",
       "      <td>False</td>\n",
       "      <td>34.504636</td>\n",
       "      <td>108.363933</td>\n",
       "      <td>29.897337</td>\n",
       "    </tr>\n",
       "    <tr>\n",
       "      <th>2</th>\n",
       "      <td>36.983463</td>\n",
       "      <td>False</td>\n",
       "      <td>98.503396</td>\n",
       "      <td>5.085491</td>\n",
       "      <td>373.460027</td>\n",
       "    </tr>\n",
       "    <tr>\n",
       "      <th>3</th>\n",
       "      <td>36.516512</td>\n",
       "      <td>False</td>\n",
       "      <td>38.418101</td>\n",
       "      <td>1.173449</td>\n",
       "      <td>26.696336</td>\n",
       "    </tr>\n",
       "    <tr>\n",
       "      <th>4</th>\n",
       "      <td>28.734387</td>\n",
       "      <td>False</td>\n",
       "      <td>99.286184</td>\n",
       "      <td>29.123061</td>\n",
       "      <td>332.682539</td>\n",
       "    </tr>\n",
       "    <tr>\n",
       "      <th>...</th>\n",
       "      <td>...</td>\n",
       "      <td>...</td>\n",
       "      <td>...</td>\n",
       "      <td>...</td>\n",
       "      <td>...</td>\n",
       "    </tr>\n",
       "    <tr>\n",
       "      <th>235</th>\n",
       "      <td>31.769066</td>\n",
       "      <td>False</td>\n",
       "      <td>189.379552</td>\n",
       "      <td>0.002523</td>\n",
       "      <td>1277.121058</td>\n",
       "    </tr>\n",
       "    <tr>\n",
       "      <th>236</th>\n",
       "      <td>28.015702</td>\n",
       "      <td>True</td>\n",
       "      <td>85.468516</td>\n",
       "      <td>61.646937</td>\n",
       "      <td>304.899057</td>\n",
       "    </tr>\n",
       "    <tr>\n",
       "      <th>237</th>\n",
       "      <td>31.477720</td>\n",
       "      <td>False</td>\n",
       "      <td>0.360471</td>\n",
       "      <td>19.738584</td>\n",
       "      <td>26.351808</td>\n",
       "    </tr>\n",
       "    <tr>\n",
       "      <th>238</th>\n",
       "      <td>27.198042</td>\n",
       "      <td>False</td>\n",
       "      <td>48.290593</td>\n",
       "      <td>18.924597</td>\n",
       "      <td>102.047530</td>\n",
       "    </tr>\n",
       "    <tr>\n",
       "      <th>239</th>\n",
       "      <td>25.648317</td>\n",
       "      <td>False</td>\n",
       "      <td>14.710356</td>\n",
       "      <td>9.092079</td>\n",
       "      <td>24.894291</td>\n",
       "    </tr>\n",
       "  </tbody>\n",
       "</table>\n",
       "<p>231 rows × 5 columns</p>\n",
       "</div>"
      ],
      "text/plain": [
       "      Feature1  Feature2    Feature3    Feature4        Label\n",
       "0    26.303954      True   59.919036  126.853479   170.361411\n",
       "1    19.646076     False   34.504636  108.363933    29.897337\n",
       "2    36.983463     False   98.503396    5.085491   373.460027\n",
       "3    36.516512     False   38.418101    1.173449    26.696336\n",
       "4    28.734387     False   99.286184   29.123061   332.682539\n",
       "..         ...       ...         ...         ...          ...\n",
       "235  31.769066     False  189.379552    0.002523  1277.121058\n",
       "236  28.015702      True   85.468516   61.646937   304.899057\n",
       "237  31.477720     False    0.360471   19.738584    26.351808\n",
       "238  27.198042     False   48.290593   18.924597   102.047530\n",
       "239  25.648317     False   14.710356    9.092079    24.894291\n",
       "\n",
       "[231 rows x 5 columns]"
      ]
     },
     "execution_count": 38,
     "metadata": {},
     "output_type": "execute_result"
    }
   ],
   "source": [
    "for row in rows_to_drop:\n",
    "\tif(null_value_percentages[row]<5):\n",
    "\t\ttrain_csv.drop(labels=train_csv.index[train_csv[row].isna()],inplace=True)\n",
    "train_csv"
   ]
  },
  {
   "cell_type": "markdown",
   "metadata": {},
   "source": [
    "OBSERVATION: There are 9 rows for which null value percentage is less than 5% and  more than 0%."
   ]
  },
  {
   "cell_type": "code",
   "execution_count": 39,
   "metadata": {},
   "outputs": [
    {
     "data": {
      "text/plain": [
       "Series([], dtype: float64)"
      ]
     },
     "execution_count": 39,
     "metadata": {},
     "output_type": "execute_result"
    }
   ],
   "source": [
    "columns_to_drop=null_value_percentages[null_value_percentages>30]\n",
    "columns_to_drop"
   ]
  },
  {
   "cell_type": "markdown",
   "metadata": {},
   "source": [
    "OBSERVATION: There are no columns for which null value percentage is more than 30%.\n",
    "As there were no columns dropped, there are no chances of having duplicates."
   ]
  },
  {
   "cell_type": "code",
   "execution_count": 40,
   "metadata": {},
   "outputs": [
    {
     "data": {
      "text/plain": [
       "Index(['Feature4'], dtype='object')"
      ]
     },
     "execution_count": 40,
     "metadata": {},
     "output_type": "execute_result"
    }
   ],
   "source": [
    "null_value_percentages=(train_csv.isna().sum()/train_csv.shape[0])*100\n",
    "null_value_percentages=null_value_percentages[null_value_percentages>0]\n",
    "columns_to_impute=null_value_percentages.keys()\n",
    "columns_to_impute"
   ]
  },
  {
   "cell_type": "code",
   "execution_count": 41,
   "metadata": {},
   "outputs": [],
   "source": [
    "for column in columns_to_impute:\n",
    "\tif(train_csv[column].dtype== object):\n",
    "\t\tprint(\"Column: \",column,\"\\tCounts:\\n\", train_csv[column].value_counts(dropna=False))\n",
    "\t\tprint(\"\\n\\n\")"
   ]
  },
  {
   "cell_type": "markdown",
   "metadata": {},
   "source": [
    "OBSERVATION: There are no categorical variables according to the code above. However, Feature2 is a categorical variable which has boolean values i.e. TRUE and FALSE. I will focus on Feature2 particularly."
   ]
  },
  {
   "cell_type": "code",
   "execution_count": 42,
   "metadata": {},
   "outputs": [
    {
     "data": {
      "text/plain": [
       "np.int64(0)"
      ]
     },
     "execution_count": 42,
     "metadata": {},
     "output_type": "execute_result"
    }
   ],
   "source": [
    "train_csv['Feature2'].isna().sum()"
   ]
  },
  {
   "cell_type": "markdown",
   "metadata": {},
   "source": [
    "OBSERVATION: Thus, there are 0 null values in the column 'Feature2'.\n",
    "It has TRUE or FALSE values. Thus, to convert the categorical variable into a numerical variable, I will assign TRUE = 1 and FALSE = 0.\n",
    "All the categorical variables must be converted to numerical variables before finding the best model."
   ]
  },
  {
   "cell_type": "code",
   "execution_count": 43,
   "metadata": {},
   "outputs": [
    {
     "data": {
      "text/plain": [
       "0      1\n",
       "1      0\n",
       "2      0\n",
       "3      0\n",
       "4      0\n",
       "      ..\n",
       "235    0\n",
       "236    1\n",
       "237    0\n",
       "238    0\n",
       "239    0\n",
       "Name: Feature2, Length: 231, dtype: int64"
      ]
     },
     "execution_count": 43,
     "metadata": {},
     "output_type": "execute_result"
    }
   ],
   "source": [
    "# Using apply with a lambda function\n",
    "train_csv['Feature2'] = train_csv['Feature2'].apply(lambda x: 1 if x == True else 0)\n",
    "train_csv['Feature2']\n",
    "\n",
    "# from sklearn.preprocessing import OneHotEncoder\n",
    "# encoder = OneHotEncoder()\n",
    "# categorical_features = encoder.fit_transform(train_csv['Feature2'])\n",
    "# train_csv['Feature2'] = categorical_features\n",
    "# train_csv['Feature2']"
   ]
  },
  {
   "cell_type": "markdown",
   "metadata": {},
   "source": [
    "Now, all the categorical variables have been converted into numerical variables.\n",
    "Now I have to handle columns where the null value percentage is more than 5% and less than 30%."
   ]
  },
  {
   "cell_type": "code",
   "execution_count": 44,
   "metadata": {},
   "outputs": [
    {
     "data": {
      "text/plain": [
       "Feature4    5.627706\n",
       "dtype: float64"
      ]
     },
     "execution_count": 44,
     "metadata": {},
     "output_type": "execute_result"
    }
   ],
   "source": [
    "null_value_percentages=(train_csv.isna().sum()/train_csv.shape[0])*100\n",
    "null_value_percentages=null_value_percentages[null_value_percentages>0]\n",
    "null_value_percentages"
   ]
  },
  {
   "cell_type": "markdown",
   "metadata": {},
   "source": [
    "Mean imputation: Best for numerical data that is symmetrically distributed (i.e., normally distributed) without outliers. \n",
    "Median imputation: Best for numerical data that is skewed (non-symmetric) or contains outliers. \n",
    "Mode imputation: Best for categorical data or numerical data with discrete, frequently occurring values."
   ]
  },
  {
   "cell_type": "code",
   "execution_count": 45,
   "metadata": {},
   "outputs": [
    {
     "data": {
      "image/png": "[encoded data removed]",
      "text/plain": [
       "<Figure size 640x480 with 1 Axes>"
      ]
     },
     "metadata": {},
     "output_type": "display_data"
    }
   ],
   "source": [
    "sns.boxplot(train_csv['Feature4'])\n",
    "plt.show()"
   ]
  },
  {
   "cell_type": "markdown",
   "metadata": {},
   "source": [
    "As we can see there are no outliers in Feature4 and it is a numerical variable. Thus, I will impute the values using mean."
   ]
  },
  {
   "cell_type": "code",
   "execution_count": 46,
   "metadata": {},
   "outputs": [
    {
     "data": {
      "text/plain": [
       "np.int64(0)"
      ]
     },
     "execution_count": 46,
     "metadata": {},
     "output_type": "execute_result"
    }
   ],
   "source": [
    "mean_value = train_csv['Feature4'].mean()\n",
    "train_csv['Feature4'] = train_csv['Feature4'].fillna(mean_value)\n",
    "train_csv['Feature4'].isna().sum()"
   ]
  },
  {
   "cell_type": "markdown",
   "metadata": {},
   "source": [
    "I will keep all the categorical variables as the initial columns and the numerical variables as the columns in the last.\n",
    "This will help me to standardize and scale only the numerical variables."
   ]
  },
  {
   "cell_type": "code",
   "execution_count": 47,
   "metadata": {},
   "outputs": [],
   "source": [
    "# Columns to swap\n",
    "col1, col2 = 'Feature1', 'Feature2'\n",
    "\n",
    "# Swap the columns\n",
    "columns = list(train_csv.columns)  # Get the list of column names\n",
    "col1_index, col2_index = columns.index(col1), columns.index(col2)  # Find the indices of the columns\n",
    "\n",
    "# Swap the columns in the list\n",
    "columns[col1_index], columns[col2_index] = columns[col2_index], columns[col1_index]\n",
    "\n",
    "# Reorder DataFrame columns based on the modified list\n",
    "train_csv = train_csv[columns]"
   ]
  },
  {
   "cell_type": "markdown",
   "metadata": {},
   "source": [
    "Now, I will split the given data into the features and the label."
   ]
  },
  {
   "cell_type": "code",
   "execution_count": 48,
   "metadata": {},
   "outputs": [
    {
     "name": "stdout",
     "output_type": "stream",
     "text": [
      "   Feature2   Feature1   Feature3    Feature4\n",
      "0         1  26.303954  59.919036  126.853479\n",
      "1         0  19.646076  34.504636  108.363933\n",
      "2         0  36.983463  98.503396    5.085491\n",
      "3         0  36.516512  38.418101    1.173449\n",
      "4         0  28.734387  99.286184   29.123061\n",
      "0    170.361411\n",
      "1     29.897337\n",
      "2    373.460027\n",
      "3     26.696336\n",
      "4    332.682539\n",
      "Name: Label, dtype: float64\n"
     ]
    }
   ],
   "source": [
    "X = train_csv.iloc[:,:-1]\n",
    "Y = train_csv.iloc[:,-1]\n",
    "print(X.head())\n",
    "print(Y.head())"
   ]
  },
  {
   "cell_type": "markdown",
   "metadata": {},
   "source": [
    "Splitting the data into 70% for training and 30% for testing with random seed as 42."
   ]
  },
  {
   "cell_type": "code",
   "execution_count": 49,
   "metadata": {},
   "outputs": [
    {
     "name": "stdout",
     "output_type": "stream",
     "text": [
      "     Feature2   Feature1   Feature3   Feature4\n",
      "58          1  34.164947   9.495583  11.575065\n",
      "118         0  11.022348  20.637867  17.132943\n",
      "145         1  15.622881  -1.172008  53.978447\n",
      "200         0  28.433578  55.033076   1.228235\n",
      "67          0  33.477255  71.517470  95.088078\n",
      "     Feature2   Feature1    Feature3    Feature4\n",
      "226         0  22.844576   21.601206  118.834790\n",
      "68          1  47.054120   24.510226    7.147082\n",
      "9           0  42.297529  153.559543    0.498544\n",
      "177         0  33.935619   87.076686    0.000631\n",
      "15          0  42.506491   51.808843    0.005678\n"
     ]
    }
   ],
   "source": [
    "from sklearn.model_selection import train_test_split\n",
    "X_train, X_test, Y_train, Y_test = train_test_split(X, Y, test_size=0.3, random_state=42)\n",
    "print(X_train.head())\n",
    "print(X_test.head())"
   ]
  },
  {
   "cell_type": "markdown",
   "metadata": {},
   "source": [
    "The X_train should be normalized (fitted and transformed). Then, using the same scaler we have to transform (only transform, not fit) the X_test."
   ]
  },
  {
   "cell_type": "code",
   "execution_count": 50,
   "metadata": {},
   "outputs": [
    {
     "name": "stdout",
     "output_type": "stream",
     "text": [
      "     Feature2  Feature1  Feature3  Feature4\n",
      "58          1  0.373231 -0.333810 -1.137995\n",
      "118         0 -1.732778 -0.275012 -1.012334\n",
      "145         1 -1.314123 -0.390103 -0.179275\n",
      "200         0 -0.148332 -0.093507 -1.371931\n",
      "67          0  0.310650 -0.006518  0.750194\n",
      "     Feature2  Feature1  Feature3  Feature4\n",
      "226         0 -0.656939 -0.269928  1.287095\n",
      "68          1  1.546163 -0.254577 -1.238109\n",
      "9           0  1.113307  0.426421 -1.388429\n",
      "177         0  0.352361  0.075589 -1.399687\n",
      "15          0  1.132322 -0.110521 -1.399573\n"
     ]
    }
   ],
   "source": [
    "from sklearn.preprocessing import StandardScaler\n",
    "scaler = StandardScaler()\n",
    "\n",
    "# X_train[:, 1:] = scaler.fit_transform(X_train[:, 1:])\n",
    "# X_test[:, 1:] = scaler.transform(X_test[:, 1:])\n",
    "# X_test\n",
    "# AVOID STANDARD SCALING ON CATEGORICAL VARIABLES.\n",
    "\n",
    "# Use .iloc for indexing when working with DataFrames\n",
    "# This selects all rows and columns starting from the second column (index 1)\n",
    "X_train_scaled = scaler.fit_transform(X_train.iloc[:, 1:])\n",
    "X_test_scaled = scaler.transform(X_test.iloc[:, 1:])\n",
    "\n",
    "# If you need to reassign back to the original DataFrame or join with unscaled data:\n",
    "X_train.iloc[:, 1:] = X_train_scaled\n",
    "X_test.iloc[:, 1:] = X_test_scaled\n",
    "\n",
    "print(X_train.head())\n",
    "print(X_test.head())"
   ]
  },
  {
   "cell_type": "markdown",
   "metadata": {},
   "source": [
    "Flatten the data for plotting."
   ]
  },
  {
   "cell_type": "code",
   "execution_count": 51,
   "metadata": {},
   "outputs": [],
   "source": [
    "# Sort the data points for plotting\n",
    "\n",
    "#np.argsort() takes 1D arrays\n",
    "#returns indices that sort X_train in ascending order\n",
    "# sorted_indices = np.argsort(X_train.flatten())\n",
    "\n",
    "#X_train is sorted as per the indices\n",
    "#Y_train is also sorted as per the same indices, so that X-Y values align\n",
    "# X_train_sorted = X_train[sorted_indices]\n",
    "# Y_train_sorted = Y_train[sorted_indices]"
   ]
  },
  {
   "cell_type": "markdown",
   "metadata": {},
   "source": [
    "Model Training"
   ]
  },
  {
   "cell_type": "code",
   "execution_count": 52,
   "metadata": {},
   "outputs": [
    {
     "name": "stdout",
     "output_type": "stream",
     "text": [
      "[-86.02753229 209.88316685  56.07002684 -29.40021365]\n",
      "325.9148475239498\n",
      "{'copy_X': True, 'fit_intercept': True, 'n_jobs': None, 'positive': False}\n"
     ]
    }
   ],
   "source": [
    "from sklearn.linear_model import LinearRegression\n",
    "regression = LinearRegression()\n",
    "regression.fit(X_train, Y_train)\n",
    "print(regression.coef_)\n",
    "\n",
    "print(regression.intercept_)\n",
    "\n",
    "print(regression.get_params())"
   ]
  },
  {
   "cell_type": "code",
   "execution_count": 53,
   "metadata": {},
   "outputs": [
    {
     "data": {
      "image/png": "[encoded data removed]",
      "text/plain": [
       "<Figure size 640x480 with 1 Axes>"
      ]
     },
     "metadata": {},
     "output_type": "display_data"
    }
   ],
   "source": [
    "reg_pred = regression.predict(X_test)\n",
    "\n",
    "plt.scatter(x=Y_test, y=reg_pred)\n",
    "plt.xlabel('Y test data')\n",
    "plt.ylabel('Predicted values by the linear regression ')\n",
    "# Plotting the prediction vs Y test data. It should ideally resemble y = x line.\n",
    "plt.show()"
   ]
  },
  {
   "cell_type": "markdown",
   "metadata": {},
   "source": [
    "Finding the residuals."
   ]
  },
  {
   "cell_type": "code",
   "execution_count": 54,
   "metadata": {},
   "outputs": [
    {
     "data": {
      "text/plain": [
       "226    -112.111746\n",
       "68     -561.399253\n",
       "9       420.598041\n",
       "177     -81.140320\n",
       "15     -450.372929\n",
       "          ...     \n",
       "30      218.937688\n",
       "160    -170.502949\n",
       "70       77.970963\n",
       "77       64.017724\n",
       "5      1249.005729\n",
       "Name: Label, Length: 70, dtype: float64"
      ]
     },
     "execution_count": 54,
     "metadata": {},
     "output_type": "execute_result"
    }
   ],
   "source": [
    "residuals = Y_test - reg_pred\n",
    "residuals"
   ]
  },
  {
   "cell_type": "markdown",
   "metadata": {},
   "source": [
    "Now, I will find the mean squared error, mean absolute error and the square root of mean squared error."
   ]
  },
  {
   "cell_type": "code",
   "execution_count": 55,
   "metadata": {},
   "outputs": [
    {
     "name": "stdout",
     "output_type": "stream",
     "text": [
      "214108.7846588084\n",
      "287.2290749112306\n",
      "462.71890458334246\n"
     ]
    }
   ],
   "source": [
    "from sklearn.metrics import mean_absolute_error\n",
    "from sklearn.metrics import mean_squared_error\n",
    "\n",
    "print(mean_squared_error(Y_test, reg_pred))\n",
    "print(mean_absolute_error(Y_test, reg_pred))\n",
    "print(np.sqrt(mean_squared_error(Y_test, reg_pred)))"
   ]
  },
  {
   "cell_type": "markdown",
   "metadata": {},
   "source": [
    "R square and adjusted R square"
   ]
  },
  {
   "cell_type": "code",
   "execution_count": 56,
   "metadata": {},
   "outputs": [
    {
     "name": "stdout",
     "output_type": "stream",
     "text": [
      "0.285173666052255\n"
     ]
    }
   ],
   "source": [
    "from sklearn.metrics import r2_score\n",
    "score = r2_score(y_true=Y_test, y_pred=reg_pred)\n",
    "print(score)"
   ]
  },
  {
   "cell_type": "code",
   "execution_count": 57,
   "metadata": {},
   "outputs": [
    {
     "name": "stdout",
     "output_type": "stream",
     "text": [
      "0.24118435319393228\n"
     ]
    }
   ],
   "source": [
    "adjusted_r2 = 1 - (1 - score)*((len(Y_test) - 1)/(len(Y_test) - X_test.shape[1] - 1))\n",
    "print(adjusted_r2)"
   ]
  },
  {
   "cell_type": "code",
   "execution_count": 59,
   "metadata": {},
   "outputs": [
    {
     "data": {
      "text/html": [
       "<div>\n",
       "<style scoped>\n",
       "    .dataframe tbody tr th:only-of-type {\n",
       "        vertical-align: middle;\n",
       "    }\n",
       "\n",
       "    .dataframe tbody tr th {\n",
       "        vertical-align: top;\n",
       "    }\n",
       "\n",
       "    .dataframe thead th {\n",
       "        text-align: right;\n",
       "    }\n",
       "</style>\n",
       "<table border=\"1\" class=\"dataframe\">\n",
       "  <thead>\n",
       "    <tr style=\"text-align: right;\">\n",
       "      <th></th>\n",
       "      <th>id</th>\n",
       "      <th>Feature1</th>\n",
       "      <th>Feature2</th>\n",
       "      <th>Feature3</th>\n",
       "      <th>Feature4</th>\n",
       "    </tr>\n",
       "  </thead>\n",
       "  <tbody>\n",
       "    <tr>\n",
       "      <th>0</th>\n",
       "      <td>0</td>\n",
       "      <td>26.520753</td>\n",
       "      <td>False</td>\n",
       "      <td>2.276917</td>\n",
       "      <td>30.081571</td>\n",
       "    </tr>\n",
       "    <tr>\n",
       "      <th>1</th>\n",
       "      <td>1</td>\n",
       "      <td>19.260327</td>\n",
       "      <td>False</td>\n",
       "      <td>19.963927</td>\n",
       "      <td>32.540030</td>\n",
       "    </tr>\n",
       "    <tr>\n",
       "      <th>2</th>\n",
       "      <td>2</td>\n",
       "      <td>35.662216</td>\n",
       "      <td>False</td>\n",
       "      <td>114.665257</td>\n",
       "      <td>111.156286</td>\n",
       "    </tr>\n",
       "    <tr>\n",
       "      <th>3</th>\n",
       "      <td>3</td>\n",
       "      <td>17.693725</td>\n",
       "      <td>False</td>\n",
       "      <td>62.135788</td>\n",
       "      <td>11.251143</td>\n",
       "    </tr>\n",
       "    <tr>\n",
       "      <th>4</th>\n",
       "      <td>4</td>\n",
       "      <td>44.396224</td>\n",
       "      <td>False</td>\n",
       "      <td>167.567429</td>\n",
       "      <td>127.518999</td>\n",
       "    </tr>\n",
       "    <tr>\n",
       "      <th>5</th>\n",
       "      <td>5</td>\n",
       "      <td>39.486321</td>\n",
       "      <td>False</td>\n",
       "      <td>66.371886</td>\n",
       "      <td>117.147907</td>\n",
       "    </tr>\n",
       "    <tr>\n",
       "      <th>6</th>\n",
       "      <td>6</td>\n",
       "      <td>12.166547</td>\n",
       "      <td>False</td>\n",
       "      <td>32.204082</td>\n",
       "      <td>9.238612</td>\n",
       "    </tr>\n",
       "    <tr>\n",
       "      <th>7</th>\n",
       "      <td>7</td>\n",
       "      <td>40.238035</td>\n",
       "      <td>True</td>\n",
       "      <td>53.926449</td>\n",
       "      <td>29.840928</td>\n",
       "    </tr>\n",
       "    <tr>\n",
       "      <th>8</th>\n",
       "      <td>8</td>\n",
       "      <td>31.629610</td>\n",
       "      <td>True</td>\n",
       "      <td>58.782199</td>\n",
       "      <td>3.546138</td>\n",
       "    </tr>\n",
       "    <tr>\n",
       "      <th>9</th>\n",
       "      <td>9</td>\n",
       "      <td>46.008271</td>\n",
       "      <td>True</td>\n",
       "      <td>164.609236</td>\n",
       "      <td>22.277235</td>\n",
       "    </tr>\n",
       "    <tr>\n",
       "      <th>10</th>\n",
       "      <td>10</td>\n",
       "      <td>36.507250</td>\n",
       "      <td>True</td>\n",
       "      <td>157.919925</td>\n",
       "      <td>127.329491</td>\n",
       "    </tr>\n",
       "    <tr>\n",
       "      <th>11</th>\n",
       "      <td>11</td>\n",
       "      <td>47.666170</td>\n",
       "      <td>False</td>\n",
       "      <td>81.535871</td>\n",
       "      <td>114.120187</td>\n",
       "    </tr>\n",
       "    <tr>\n",
       "      <th>12</th>\n",
       "      <td>12</td>\n",
       "      <td>26.093744</td>\n",
       "      <td>True</td>\n",
       "      <td>-30.169283</td>\n",
       "      <td>91.536182</td>\n",
       "    </tr>\n",
       "    <tr>\n",
       "      <th>13</th>\n",
       "      <td>13</td>\n",
       "      <td>18.790515</td>\n",
       "      <td>False</td>\n",
       "      <td>21.269085</td>\n",
       "      <td>127.446948</td>\n",
       "    </tr>\n",
       "    <tr>\n",
       "      <th>14</th>\n",
       "      <td>14</td>\n",
       "      <td>16.128076</td>\n",
       "      <td>True</td>\n",
       "      <td>10.439004</td>\n",
       "      <td>4.865797</td>\n",
       "    </tr>\n",
       "    <tr>\n",
       "      <th>15</th>\n",
       "      <td>15</td>\n",
       "      <td>46.608308</td>\n",
       "      <td>False</td>\n",
       "      <td>245.595742</td>\n",
       "      <td>102.499289</td>\n",
       "    </tr>\n",
       "    <tr>\n",
       "      <th>16</th>\n",
       "      <td>16</td>\n",
       "      <td>37.301082</td>\n",
       "      <td>False</td>\n",
       "      <td>111.992419</td>\n",
       "      <td>7.278135</td>\n",
       "    </tr>\n",
       "    <tr>\n",
       "      <th>17</th>\n",
       "      <td>17</td>\n",
       "      <td>45.016585</td>\n",
       "      <td>True</td>\n",
       "      <td>80.633847</td>\n",
       "      <td>62.499045</td>\n",
       "    </tr>\n",
       "    <tr>\n",
       "      <th>18</th>\n",
       "      <td>18</td>\n",
       "      <td>45.728989</td>\n",
       "      <td>False</td>\n",
       "      <td>83.285156</td>\n",
       "      <td>120.918024</td>\n",
       "    </tr>\n",
       "    <tr>\n",
       "      <th>19</th>\n",
       "      <td>19</td>\n",
       "      <td>44.388561</td>\n",
       "      <td>False</td>\n",
       "      <td>-52.479628</td>\n",
       "      <td>61.362986</td>\n",
       "    </tr>\n",
       "    <tr>\n",
       "      <th>20</th>\n",
       "      <td>20</td>\n",
       "      <td>46.052059</td>\n",
       "      <td>False</td>\n",
       "      <td>44.337527</td>\n",
       "      <td>33.036194</td>\n",
       "    </tr>\n",
       "    <tr>\n",
       "      <th>21</th>\n",
       "      <td>21</td>\n",
       "      <td>36.559094</td>\n",
       "      <td>True</td>\n",
       "      <td>29.883208</td>\n",
       "      <td>45.364899</td>\n",
       "    </tr>\n",
       "    <tr>\n",
       "      <th>22</th>\n",
       "      <td>22</td>\n",
       "      <td>43.467205</td>\n",
       "      <td>True</td>\n",
       "      <td>112.510757</td>\n",
       "      <td>101.354883</td>\n",
       "    </tr>\n",
       "    <tr>\n",
       "      <th>23</th>\n",
       "      <td>23</td>\n",
       "      <td>18.555992</td>\n",
       "      <td>True</td>\n",
       "      <td>-26.786197</td>\n",
       "      <td>97.797857</td>\n",
       "    </tr>\n",
       "    <tr>\n",
       "      <th>24</th>\n",
       "      <td>24</td>\n",
       "      <td>12.192938</td>\n",
       "      <td>True</td>\n",
       "      <td>2.356872</td>\n",
       "      <td>13.968293</td>\n",
       "    </tr>\n",
       "    <tr>\n",
       "      <th>25</th>\n",
       "      <td>25</td>\n",
       "      <td>34.398873</td>\n",
       "      <td>True</td>\n",
       "      <td>119.990083</td>\n",
       "      <td>124.500352</td>\n",
       "    </tr>\n",
       "    <tr>\n",
       "      <th>26</th>\n",
       "      <td>26</td>\n",
       "      <td>29.406781</td>\n",
       "      <td>True</td>\n",
       "      <td>99.180099</td>\n",
       "      <td>0.091807</td>\n",
       "    </tr>\n",
       "    <tr>\n",
       "      <th>27</th>\n",
       "      <td>27</td>\n",
       "      <td>10.671013</td>\n",
       "      <td>True</td>\n",
       "      <td>32.942313</td>\n",
       "      <td>23.364833</td>\n",
       "    </tr>\n",
       "    <tr>\n",
       "      <th>28</th>\n",
       "      <td>28</td>\n",
       "      <td>28.095879</td>\n",
       "      <td>False</td>\n",
       "      <td>-46.784536</td>\n",
       "      <td>94.340173</td>\n",
       "    </tr>\n",
       "    <tr>\n",
       "      <th>29</th>\n",
       "      <td>29</td>\n",
       "      <td>48.700351</td>\n",
       "      <td>False</td>\n",
       "      <td>143.456427</td>\n",
       "      <td>126.570277</td>\n",
       "    </tr>\n",
       "    <tr>\n",
       "      <th>30</th>\n",
       "      <td>30</td>\n",
       "      <td>17.522731</td>\n",
       "      <td>False</td>\n",
       "      <td>16.452182</td>\n",
       "      <td>37.106801</td>\n",
       "    </tr>\n",
       "    <tr>\n",
       "      <th>31</th>\n",
       "      <td>31</td>\n",
       "      <td>49.484987</td>\n",
       "      <td>False</td>\n",
       "      <td>26.417133</td>\n",
       "      <td>65.642995</td>\n",
       "    </tr>\n",
       "    <tr>\n",
       "      <th>32</th>\n",
       "      <td>32</td>\n",
       "      <td>49.927176</td>\n",
       "      <td>True</td>\n",
       "      <td>85.941312</td>\n",
       "      <td>102.043772</td>\n",
       "    </tr>\n",
       "    <tr>\n",
       "      <th>33</th>\n",
       "      <td>33</td>\n",
       "      <td>11.350168</td>\n",
       "      <td>False</td>\n",
       "      <td>-0.946306</td>\n",
       "      <td>66.211070</td>\n",
       "    </tr>\n",
       "    <tr>\n",
       "      <th>34</th>\n",
       "      <td>34</td>\n",
       "      <td>46.877454</td>\n",
       "      <td>True</td>\n",
       "      <td>196.038112</td>\n",
       "      <td>79.467965</td>\n",
       "    </tr>\n",
       "    <tr>\n",
       "      <th>35</th>\n",
       "      <td>35</td>\n",
       "      <td>29.608008</td>\n",
       "      <td>False</td>\n",
       "      <td>88.566215</td>\n",
       "      <td>70.763958</td>\n",
       "    </tr>\n",
       "    <tr>\n",
       "      <th>36</th>\n",
       "      <td>36</td>\n",
       "      <td>31.167823</td>\n",
       "      <td>False</td>\n",
       "      <td>99.242093</td>\n",
       "      <td>6.888342</td>\n",
       "    </tr>\n",
       "    <tr>\n",
       "      <th>37</th>\n",
       "      <td>37</td>\n",
       "      <td>33.260949</td>\n",
       "      <td>False</td>\n",
       "      <td>-48.575695</td>\n",
       "      <td>2.202650</td>\n",
       "    </tr>\n",
       "    <tr>\n",
       "      <th>38</th>\n",
       "      <td>38</td>\n",
       "      <td>36.562126</td>\n",
       "      <td>False</td>\n",
       "      <td>122.226781</td>\n",
       "      <td>127.866218</td>\n",
       "    </tr>\n",
       "    <tr>\n",
       "      <th>39</th>\n",
       "      <td>39</td>\n",
       "      <td>27.517568</td>\n",
       "      <td>False</td>\n",
       "      <td>-5.907665</td>\n",
       "      <td>53.137376</td>\n",
       "    </tr>\n",
       "    <tr>\n",
       "      <th>40</th>\n",
       "      <td>40</td>\n",
       "      <td>45.799820</td>\n",
       "      <td>False</td>\n",
       "      <td>163.222758</td>\n",
       "      <td>0.124758</td>\n",
       "    </tr>\n",
       "    <tr>\n",
       "      <th>41</th>\n",
       "      <td>41</td>\n",
       "      <td>45.524142</td>\n",
       "      <td>True</td>\n",
       "      <td>179.815508</td>\n",
       "      <td>40.783651</td>\n",
       "    </tr>\n",
       "    <tr>\n",
       "      <th>42</th>\n",
       "      <td>42</td>\n",
       "      <td>48.518091</td>\n",
       "      <td>True</td>\n",
       "      <td>225.697325</td>\n",
       "      <td>2.508020</td>\n",
       "    </tr>\n",
       "    <tr>\n",
       "      <th>43</th>\n",
       "      <td>43</td>\n",
       "      <td>47.988392</td>\n",
       "      <td>True</td>\n",
       "      <td>92.956811</td>\n",
       "      <td>105.181503</td>\n",
       "    </tr>\n",
       "    <tr>\n",
       "      <th>44</th>\n",
       "      <td>44</td>\n",
       "      <td>10.068714</td>\n",
       "      <td>False</td>\n",
       "      <td>18.749141</td>\n",
       "      <td>36.849206</td>\n",
       "    </tr>\n",
       "    <tr>\n",
       "      <th>45</th>\n",
       "      <td>45</td>\n",
       "      <td>33.267322</td>\n",
       "      <td>True</td>\n",
       "      <td>129.175670</td>\n",
       "      <td>94.590079</td>\n",
       "    </tr>\n",
       "    <tr>\n",
       "      <th>46</th>\n",
       "      <td>46</td>\n",
       "      <td>13.560475</td>\n",
       "      <td>True</td>\n",
       "      <td>46.831505</td>\n",
       "      <td>127.900427</td>\n",
       "    </tr>\n",
       "    <tr>\n",
       "      <th>47</th>\n",
       "      <td>47</td>\n",
       "      <td>15.131657</td>\n",
       "      <td>False</td>\n",
       "      <td>66.048672</td>\n",
       "      <td>123.188399</td>\n",
       "    </tr>\n",
       "    <tr>\n",
       "      <th>48</th>\n",
       "      <td>48</td>\n",
       "      <td>21.383350</td>\n",
       "      <td>True</td>\n",
       "      <td>91.267975</td>\n",
       "      <td>37.364927</td>\n",
       "    </tr>\n",
       "    <tr>\n",
       "      <th>49</th>\n",
       "      <td>49</td>\n",
       "      <td>10.292814</td>\n",
       "      <td>False</td>\n",
       "      <td>6.111599</td>\n",
       "      <td>125.906844</td>\n",
       "    </tr>\n",
       "    <tr>\n",
       "      <th>50</th>\n",
       "      <td>50</td>\n",
       "      <td>32.816987</td>\n",
       "      <td>True</td>\n",
       "      <td>34.314577</td>\n",
       "      <td>8.658985</td>\n",
       "    </tr>\n",
       "    <tr>\n",
       "      <th>51</th>\n",
       "      <td>51</td>\n",
       "      <td>21.833022</td>\n",
       "      <td>True</td>\n",
       "      <td>35.558470</td>\n",
       "      <td>126.629389</td>\n",
       "    </tr>\n",
       "    <tr>\n",
       "      <th>52</th>\n",
       "      <td>52</td>\n",
       "      <td>47.763436</td>\n",
       "      <td>True</td>\n",
       "      <td>117.292027</td>\n",
       "      <td>125.531214</td>\n",
       "    </tr>\n",
       "    <tr>\n",
       "      <th>53</th>\n",
       "      <td>53</td>\n",
       "      <td>48.472661</td>\n",
       "      <td>True</td>\n",
       "      <td>150.990305</td>\n",
       "      <td>44.821933</td>\n",
       "    </tr>\n",
       "    <tr>\n",
       "      <th>54</th>\n",
       "      <td>54</td>\n",
       "      <td>19.183460</td>\n",
       "      <td>True</td>\n",
       "      <td>53.145020</td>\n",
       "      <td>30.322882</td>\n",
       "    </tr>\n",
       "    <tr>\n",
       "      <th>55</th>\n",
       "      <td>55</td>\n",
       "      <td>43.844809</td>\n",
       "      <td>False</td>\n",
       "      <td>-22.222806</td>\n",
       "      <td>2.057269</td>\n",
       "    </tr>\n",
       "    <tr>\n",
       "      <th>56</th>\n",
       "      <td>56</td>\n",
       "      <td>40.982595</td>\n",
       "      <td>False</td>\n",
       "      <td>133.500103</td>\n",
       "      <td>1.341518</td>\n",
       "    </tr>\n",
       "    <tr>\n",
       "      <th>57</th>\n",
       "      <td>57</td>\n",
       "      <td>28.998017</td>\n",
       "      <td>True</td>\n",
       "      <td>81.319440</td>\n",
       "      <td>0.534570</td>\n",
       "    </tr>\n",
       "    <tr>\n",
       "      <th>58</th>\n",
       "      <td>58</td>\n",
       "      <td>36.892485</td>\n",
       "      <td>True</td>\n",
       "      <td>120.562342</td>\n",
       "      <td>2.429855</td>\n",
       "    </tr>\n",
       "    <tr>\n",
       "      <th>59</th>\n",
       "      <td>59</td>\n",
       "      <td>43.511027</td>\n",
       "      <td>False</td>\n",
       "      <td>59.690091</td>\n",
       "      <td>70.481317</td>\n",
       "    </tr>\n",
       "  </tbody>\n",
       "</table>\n",
       "</div>"
      ],
      "text/plain": [
       "    id   Feature1  Feature2    Feature3    Feature4\n",
       "0    0  26.520753     False    2.276917   30.081571\n",
       "1    1  19.260327     False   19.963927   32.540030\n",
       "2    2  35.662216     False  114.665257  111.156286\n",
       "3    3  17.693725     False   62.135788   11.251143\n",
       "4    4  44.396224     False  167.567429  127.518999\n",
       "5    5  39.486321     False   66.371886  117.147907\n",
       "6    6  12.166547     False   32.204082    9.238612\n",
       "7    7  40.238035      True   53.926449   29.840928\n",
       "8    8  31.629610      True   58.782199    3.546138\n",
       "9    9  46.008271      True  164.609236   22.277235\n",
       "10  10  36.507250      True  157.919925  127.329491\n",
       "11  11  47.666170     False   81.535871  114.120187\n",
       "12  12  26.093744      True  -30.169283   91.536182\n",
       "13  13  18.790515     False   21.269085  127.446948\n",
       "14  14  16.128076      True   10.439004    4.865797\n",
       "15  15  46.608308     False  245.595742  102.499289\n",
       "16  16  37.301082     False  111.992419    7.278135\n",
       "17  17  45.016585      True   80.633847   62.499045\n",
       "18  18  45.728989     False   83.285156  120.918024\n",
       "19  19  44.388561     False  -52.479628   61.362986\n",
       "20  20  46.052059     False   44.337527   33.036194\n",
       "21  21  36.559094      True   29.883208   45.364899\n",
       "22  22  43.467205      True  112.510757  101.354883\n",
       "23  23  18.555992      True  -26.786197   97.797857\n",
       "24  24  12.192938      True    2.356872   13.968293\n",
       "25  25  34.398873      True  119.990083  124.500352\n",
       "26  26  29.406781      True   99.180099    0.091807\n",
       "27  27  10.671013      True   32.942313   23.364833\n",
       "28  28  28.095879     False  -46.784536   94.340173\n",
       "29  29  48.700351     False  143.456427  126.570277\n",
       "30  30  17.522731     False   16.452182   37.106801\n",
       "31  31  49.484987     False   26.417133   65.642995\n",
       "32  32  49.927176      True   85.941312  102.043772\n",
       "33  33  11.350168     False   -0.946306   66.211070\n",
       "34  34  46.877454      True  196.038112   79.467965\n",
       "35  35  29.608008     False   88.566215   70.763958\n",
       "36  36  31.167823     False   99.242093    6.888342\n",
       "37  37  33.260949     False  -48.575695    2.202650\n",
       "38  38  36.562126     False  122.226781  127.866218\n",
       "39  39  27.517568     False   -5.907665   53.137376\n",
       "40  40  45.799820     False  163.222758    0.124758\n",
       "41  41  45.524142      True  179.815508   40.783651\n",
       "42  42  48.518091      True  225.697325    2.508020\n",
       "43  43  47.988392      True   92.956811  105.181503\n",
       "44  44  10.068714     False   18.749141   36.849206\n",
       "45  45  33.267322      True  129.175670   94.590079\n",
       "46  46  13.560475      True   46.831505  127.900427\n",
       "47  47  15.131657     False   66.048672  123.188399\n",
       "48  48  21.383350      True   91.267975   37.364927\n",
       "49  49  10.292814     False    6.111599  125.906844\n",
       "50  50  32.816987      True   34.314577    8.658985\n",
       "51  51  21.833022      True   35.558470  126.629389\n",
       "52  52  47.763436      True  117.292027  125.531214\n",
       "53  53  48.472661      True  150.990305   44.821933\n",
       "54  54  19.183460      True   53.145020   30.322882\n",
       "55  55  43.844809     False  -22.222806    2.057269\n",
       "56  56  40.982595     False  133.500103    1.341518\n",
       "57  57  28.998017      True   81.319440    0.534570\n",
       "58  58  36.892485      True  120.562342    2.429855\n",
       "59  59  43.511027     False   59.690091   70.481317"
      ]
     },
     "execution_count": 59,
     "metadata": {},
     "output_type": "execute_result"
    }
   ],
   "source": [
    "test_csv = pd.read_csv('test.csv')\n",
    "test_csv"
   ]
  },
  {
   "cell_type": "code",
   "execution_count": null,
   "metadata": {},
   "outputs": [],
   "source": [
    "# Columns to swap\n",
    "col1, col2 = 'Feature1', 'Feature2'\n",
    "\n",
    "# Swap the columns\n",
    "columns = list(train_csv.columns)  # Get the list of column names\n",
    "col1_index, col2_index = columns.index(col1), columns.index(col2)  # Find the indices of the columns\n",
    "\n",
    "# Swap the columns in the list\n",
    "columns[col1_index], columns[col2_index] = columns[col2_index], columns[col1_index]\n",
    "\n",
    "# Reorder DataFrame columns based on the modified list\n",
    "test_csv = test_csv[columns]"
   ]
  },
  {
   "cell_type": "code",
   "execution_count": null,
   "metadata": {},
   "outputs": [],
   "source": []
  },
  {
   "cell_type": "markdown",
   "metadata": {},
   "source": [
    "POLYNOMIAL REGRESSION"
   ]
  },
  {
   "cell_type": "code",
   "execution_count": 58,
   "metadata": {},
   "outputs": [
    {
     "name": "stdout",
     "output_type": "stream",
     "text": [
      "Order = 1, Training Ridge score = 0.28106582663897883, Testing Ridge score = 0.28525072907151994\n",
      "Order = 2, Training Ridge score = 0.5501796286239992, Testing Ridge score = -0.129371456548375\n",
      "Order = 3, Training Ridge score = 0.9446139550958982, Testing Ridge score = -69.94229859020152\n",
      "Order = 4, Training Ridge score = 0.9784516234299656, Testing Ridge score = -862.2705398547848\n",
      "Order = 5, Training Ridge score = 0.9862525752682477, Testing Ridge score = -8.285945304786404\n",
      "Order = 6, Training Ridge score = 0.9872878398489383, Testing Ridge score = -534.5357301432583\n",
      "Order = 7, Training Ridge score = 0.9898147405462399, Testing Ridge score = -171367.55351365855\n",
      "Order = 8, Training Ridge score = 0.9914984785109702, Testing Ridge score = -651176.9793673555\n",
      "Order = 9, Training Ridge score = 0.9923611408568789, Testing Ridge score = -26843518.722619407\n",
      "Order = 10, Training Ridge score = 0.9930473145276986, Testing Ridge score = -167636989.89468682\n"
     ]
    },
    {
     "name": "stderr",
     "output_type": "stream",
     "text": [
      "c:\\Users\\Valmik Belgaonkar\\OneDrive\\Desktop\\IIITB Folder\\5th Semester\\Machine Learning\\ML Lab\\.venv\\Lib\\site-packages\\sklearn\\linear_model\\_ridge.py:253: LinAlgWarning: Ill-conditioned matrix (rcond=2.61817e-18): result may not be accurate.\n",
      "  dual_coef = linalg.solve(K, y, assume_a=\"pos\", overwrite_a=False)\n"
     ]
    }
   ],
   "source": [
    "from sklearn.preprocessing import PolynomialFeatures\n",
    "from sklearn.linear_model import Ridge\n",
    "# from sklearn.metrics import mean_squared_error, r2_score\n",
    "# import numpy as np\n",
    "\n",
    "# Assuming X_train, X_test, Y_train, Y_test are already defined and scaled if necessary\n",
    "\n",
    "# Polynomial Regression - Different Orders\n",
    "orders = []\n",
    "for i in range(1, 11):\n",
    "    orders.append(i)\n",
    "\n",
    "# Lists to store the errors and R2 scores\n",
    "train_errors = []\n",
    "test_errors = []\n",
    "r2_score_list = []\n",
    "\n",
    "for order in orders:\n",
    "    # Create an instance of PolynomialFeatures with the specified degree\n",
    "    poly_features = PolynomialFeatures(degree=order)\n",
    "    X_poly = poly_features.fit_transform(X=X_train)\n",
    "\n",
    "    ridge_reg = Ridge(alpha=0.4)\n",
    "    ridge_reg.fit(X=X_poly, y=Y_train)\n",
    "\n",
    "    y_pred = ridge_reg.predict(poly_features.transform(X=X_test))\n",
    "\n",
    "    print(f'Order = {order}, Training Ridge score = {ridge_reg.score(X=X_poly, y=Y_train)}, Testing Ridge score = {ridge_reg.score(poly_features.transform(X=X_test), y=Y_test)}')\n"
   ]
  }
 ],
 "metadata": {
  "kernelspec": {
   "display_name": "assenv",
   "language": "python",
   "name": "python3"
  },
  "language_info": {
   "codemirror_mode": {
    "name": "ipython",
    "version": 3
   },
   "file_extension": ".py",
   "mimetype": "text/x-python",
   "name": "python",
   "nbconvert_exporter": "python",
   "pygments_lexer": "ipython3",
   "version": "3.12.4"
  }
 },
 "nbformat": 4,
 "nbformat_minor": 2
}
